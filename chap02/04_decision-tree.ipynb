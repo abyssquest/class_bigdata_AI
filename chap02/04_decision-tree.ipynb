{
 "cells": [
  {
   "cell_type": "markdown",
   "metadata": {},
   "source": [
    "# 라이브러리 임포트\n",
    "실습에 필요한 라이브러리를 임포트합니다."
   ]
  },
  {
   "cell_type": "code",
   "execution_count": null,
   "metadata": {},
   "outputs": [],
   "source": [
    "import pandas as pd\n",
    "import numpy as np\n",
    "\n",
    "# sklearn 모델의 동일한 결과 출력을 위해 선언합니다.\n",
    "np.random.seed(5)"
   ]
  },
  {
   "cell_type": "markdown",
   "metadata": {},
   "source": [
    "# 문제 정의"
   ]
  },
  {
   "cell_type": "markdown",
   "metadata": {},
   "source": [
    "서울 지역(구)의 경도와 위도 정보를 사용하여, 임의로 입력된 지역(동)을  \n",
    "강동, 강서, 강남, 강북으로 분류해보는 예제입니다."
   ]
  },
  {
   "cell_type": "markdown",
   "metadata": {},
   "source": [
    "# 데이터 수집\n",
    "아래는 서울의 대표적인 구(district) 위치 데이터입니다.  \n",
    "구(district) 정보는 학습에 사용하도록 하겠습니다."
   ]
  },
  {
   "cell_type": "markdown",
   "metadata": {},
   "source": [
    "### 컬럼 주석 \n",
    "**district**: 행정구역 (서초구, 송파구, 용산구 등, 서울의 단위 지역 분류입니다)  \n",
    "**dong**: 구(district)보다 작은 행정구역 (대치동, 도곡동, 암사동 등, 서울의 소단위 분류입니다)  \n",
    "**longitude**: 경도  \n",
    "**latitude**: 위도    \n",
    "**label**: 한강 기준으로 동,서,남,북으로 구분한 지역 명칭  "
   ]
  },
  {
   "cell_type": "code",
   "execution_count": null,
   "metadata": {},
   "outputs": [],
   "source": [
    "district_dict_list = [\n",
    "            {'district': 'Gangseo-gu', 'latitude': 37.551000, 'longitude': 126.849500, 'label':'Gangseo'},\n",
    "            {'district': 'Yangcheon-gu', 'latitude': 37.52424, 'longitude': 126.855396, 'label':'Gangseo'},\n",
    "            {'district': 'Guro-gu', 'latitude': 37.4954, 'longitude': 126.8874, 'label':'Gangseo'},\n",
    "            {'district': 'Geumcheon-gu', 'latitude': 37.4519, 'longitude': 126.9020, 'label':'Gangseo'},\n",
    "            {'district': 'Mapo-gu', 'latitude': 37.560229, 'longitude': 126.908728, 'label':'Gangseo'},\n",
    "            \n",
    "            {'district': 'Gwanak-gu', 'latitude': 37.487517, 'longitude': 126.915065, 'label':'Gangnam'},\n",
    "            {'district': 'Dongjak-gu', 'latitude': 37.5124, 'longitude': 126.9393, 'label':'Gangnam'},\n",
    "            {'district': 'Seocho-gu', 'latitude': 37.4837, 'longitude': 127.0324, 'label':'Gangnam'},\n",
    "            {'district': 'Gangnam-gu', 'latitude': 37.5172, 'longitude': 127.0473, 'label':'Gangnam'},\n",
    "            {'district': 'Songpa-gu', 'latitude': 37.503510, 'longitude': 127.117898, 'label':'Gangnam'},\n",
    "   \n",
    "            {'district': 'Yongsan-gu', 'latitude': 37.532561, 'longitude': 127.008605, 'label':'Gangbuk'},\n",
    "            {'district': 'Jongro-gu', 'latitude': 37.5730, 'longitude': 126.9794, 'label':'Gangbuk'},\n",
    "            {'district': 'Seongbuk-gu', 'latitude': 37.603979, 'longitude': 127.056344, 'label':'Gangbuk'},\n",
    "            {'district': 'Nowon-gu', 'latitude': 37.6542, 'longitude': 127.0568, 'label':'Gangbuk'},\n",
    "            {'district': 'Dobong-gu', 'latitude': 37.6688, 'longitude': 127.0471, 'label':'Gangbuk'},\n",
    "     \n",
    "            {'district': 'Seongdong-gu', 'latitude': 37.557340, 'longitude': 127.041667, 'label':'Gangdong'},\n",
    "            {'district': 'Dongdaemun-gu', 'latitude': 37.575759, 'longitude': 127.025288, 'label':'Gangdong'},\n",
    "            {'district': 'Gwangjin-gu', 'latitude': 37.557562, 'longitude': 127.083467, 'label':'Gangdong'},\n",
    "            {'district': 'Gangdong-gu', 'latitude': 37.554194, 'longitude': 127.151405, 'label':'Gangdong'},\n",
    "            {'district': 'Jungrang-gu', 'latitude': 37.593684, 'longitude': 127.090384, 'label':'Gangdong'}\n",
    "         ]\n",
    "\n",
    "train_df = pd.DataFrame(district_dict_list)\n",
    "train_df = train_df[['district', 'longitude', 'latitude', 'label']]"
   ]
  },
  {
   "cell_type": "markdown",
   "metadata": {},
   "source": [
    "아래는 서울의 대표적인 동 위치 데이터입니다.  \n",
    "동 정보는 테스트 시 사용하도록 하겠습니다."
   ]
  },
  {
   "cell_type": "code",
   "execution_count": null,
   "metadata": {},
   "outputs": [],
   "source": [
    "dong_dict_list = [\n",
    "            {'dong': 'Gaebong-dong', 'latitude': 37.489853, 'longitude': 126.854547, 'label':'Gangseo'},\n",
    "            {'dong': 'Gochuk-dong', 'latitude': 37.501394, 'longitude': 126.859245, 'label':'Gangseo'},\n",
    "            {'dong': 'Hwagok-dong', 'latitude': 37.537759, 'longitude': 126.847951, 'label':'Gangseo'},\n",
    "            {'dong': 'Banghwa-dong', 'latitude': 37.575817, 'longitude': 126.815719, 'label':'Gangseo'},\n",
    "            {'dong': 'Sangam-dong', 'latitude': 37.577039, 'longitude': 126.891620, 'label':'Gangseo'},\n",
    "            \n",
    "            {'dong': 'Nonhyun-dong', 'latitude': 37.508838, 'longitude': 127.030720, 'label':'Gangnam'},\n",
    "            {'dong': 'Daechi-dong', 'latitude': 37.501163, 'longitude': 127.057193, 'label':'Gangnam'},\n",
    "            {'dong': 'Seocho-dong', 'latitude': 37.486401, 'longitude': 127.018281, 'label':'Gangnam'},\n",
    "            {'dong': 'Bangbae-dong', 'latitude': 37.483279, 'longitude': 126.988194, 'label':'Gangnam'},\n",
    "            {'dong': 'Dogok-dong', 'latitude': 37.492896, 'longitude': 127.043159, 'label':'Gangnam'},\n",
    "    \n",
    "            {'dong': 'Pyoungchang-dong', 'latitude': 37.612129, 'longitude': 126.975724, 'label':'Gangbuk'},\n",
    "            {'dong': 'Sungbuk-dong', 'latitude': 37.597916, 'longitude': 126.998067, 'label':'Gangbuk'},\n",
    "            {'dong': 'Ssangmoon-dong', 'latitude': 37.648094, 'longitude': 127.030421, 'label':'Gangbuk'},\n",
    "            {'dong': 'Ui-dong', 'latitude': 37.648446, 'longitude': 127.011396, 'label':'Gangbuk'},\n",
    "            {'dong': 'Samcheong-dong', 'latitude': 37.591109, 'longitude': 126.980488, 'label':'Gangbuk'},\n",
    "    \n",
    "            {'dong': 'Hwayang-dong', 'latitude': 37.544234, 'longitude': 127.071648, 'label':'Gangdong'},\n",
    "            {'dong': 'Gui-dong', 'latitude': 37.543757, 'longitude': 127.086803, 'label':'Gangdong'},\n",
    "            {'dong': 'Neung-dong', 'latitude': 37.553102, 'longitude': 127.080248, 'label':'Gangdong'},\n",
    "            {'dong': 'Amsa-dong', 'latitude': 37.552370, 'longitude': 127.127124, 'label':'Gangdong'},\n",
    "            {'dong': 'Chunho-dong', 'latitude': 37.547436, 'longitude': 127.137382, 'label':'Gangdong'}\n",
    "         ]\n",
    "\n",
    "test_df = pd.DataFrame(dong_dict_list)\n",
    "test_df = test_df[['dong', 'longitude', 'latitude', 'label']]"
   ]
  },
  {
   "cell_type": "code",
   "execution_count": null,
   "metadata": {},
   "outputs": [],
   "source": [
    "# 현재 가지고 있는 데이터에서, 레이블의 갯수를 확인\n",
    "train_df.label.value_counts()"
   ]
  },
  {
   "cell_type": "code",
   "execution_count": null,
   "metadata": {},
   "outputs": [],
   "source": [
    "test_df.label.value_counts()"
   ]
  },
  {
   "cell_type": "markdown",
   "metadata": {},
   "source": [
    "레이블의 갯수를 확인한 결과, 우리의 데이터는   \n",
    "Gangbuk(강북), Gangseo(강서), Gangdong(강동), Gangnam(강남)이라는 4가지 분류값을 가지고 있습니다.  \n",
    "이번 예제에서는 위도와 경도 정보만으로, 그 지역의 레이블을 예측해볼 수 있도록,  \n",
    "데이터를 전처리해보도록 하겠습니다."
   ]
  },
  {
   "cell_type": "markdown",
   "metadata": {},
   "source": [
    "# 데이터 전처리\n",
    "먼저, 경도와 위도의 평균과 편차를 보도록 하겠습니다."
   ]
  },
  {
   "cell_type": "code",
   "execution_count": null,
   "metadata": {},
   "outputs": [],
   "source": [
    "train_df.describe()"
   ]
  },
  {
   "cell_type": "markdown",
   "metadata": {},
   "source": [
    "경도와 위도는 같은 단위를 사용하는 것을 확인하실 수 있습니다.  \n",
    "이번 예제는 의사결정트리로 데이터를 분류해보도록 하겠습니다.  \n",
    "의사결정트리는 각 특징을 독립적으로 사용하기 때문에, 이번 예제에서는 별다른 전처리 과정이 필요없습니다.  "
   ]
  },
  {
   "cell_type": "code",
   "execution_count": null,
   "metadata": {},
   "outputs": [],
   "source": [
    "train_df.head()"
   ]
  },
  {
   "cell_type": "code",
   "execution_count": null,
   "metadata": {},
   "outputs": [],
   "source": [
    "test_df.head()"
   ]
  },
  {
   "cell_type": "markdown",
   "metadata": {},
   "source": [
    "# 데이터 시각화"
   ]
  },
  {
   "cell_type": "markdown",
   "metadata": {},
   "source": [
    "데이터를 특징을 바탕으로 한 공간에 데이터 특징을 시각화함으로써,  \n",
    "우리는 머신러닝 학습에 필요한 특징과 불필요한 특징을 쉽게 구분지을 수 있고,  \n",
    "데이터의 패턴을 눈으로 쉽게 파악할 수 있습니다."
   ]
  },
  {
   "cell_type": "code",
   "execution_count": null,
   "metadata": {},
   "outputs": [],
   "source": [
    "import matplotlib.pyplot as plt\n",
    "import seaborn as sns\n",
    "%matplotlib inline\n",
    "\n",
    "# 경도, 위도에 따른 데이터 시각화\n",
    "sns.lmplot('longitude', 'latitude', data=train_df, fit_reg=False,  # x 축, y 축, 데이터, 라인 없음\n",
    "           scatter_kws={\"s\": 150}, # 좌표 상의 점의 크기\n",
    "           markers=[\"o\", \"x\", \"+\", \"*\"],\n",
    "           hue=\"label\")\n",
    "\n",
    "# title\n",
    "plt.title('district visualization in 2d plane')"
   ]
  },
  {
   "cell_type": "markdown",
   "metadata": {},
   "source": [
    "강서는 동그라미, 강북은 +, 강남은 X, 강동은 별모양으로 표시가 되었습니다.\n",
    "\n",
    "시각화를 통해, 강서는 중심으로부터 서쪽에, 강동은 중심으로부터 동쪽에,  \n",
    "강북은 중심으로부터 북쪽에, 강남은 중심으로부터 남쪽에 위치하는 패턴을,  \n",
    "쉽게 눈으로 파악할 수 있습니다."
   ]
  },
  {
   "cell_type": "markdown",
   "metadata": {},
   "source": [
    "# 데이터 다듬기\n",
    "학습 및 테스트에 필요 없는 특징(feature)을 데이터에서 제거합니다.  \n",
    "구 이름 및 동 이름은 학습 및 테스트에 필요 없으므로, 제거합니다."
   ]
  },
  {
   "cell_type": "code",
   "execution_count": null,
   "metadata": {},
   "outputs": [],
   "source": [
    "train_df.drop(['district'], axis=1, inplace = True)\n",
    "test_df.drop(['dong'], axis=1, inplace = True)\n",
    "\n",
    "X_train = train_df[['longitude', 'latitude']]\n",
    "y_train = train_df[['label']]\n",
    "\n",
    "X_test = test_df[['longitude', 'latitude']]\n",
    "y_test = test_df[['label']]"
   ]
  },
  {
   "cell_type": "code",
   "execution_count": null,
   "metadata": {},
   "outputs": [],
   "source": [
    "from sklearn import tree\n",
    "import numpy as np\n",
    "import matplotlib.pyplot as plt\n",
    "from sklearn import preprocessing"
   ]
  },
  {
   "cell_type": "code",
   "execution_count": null,
   "metadata": {},
   "outputs": [],
   "source": [
    "def display_decision_surface(clf, X, y):\n",
    "    \n",
    "    # 챠트의 범위가 모든 학습 데이터를 포함하도록 설정\n",
    "    x_min = X.longitude.min() - 0.01\n",
    "    x_max = X.longitude.max() + 0.01\n",
    "    y_min = X.latitude.min() - 0.01\n",
    "    y_max = X.latitude.max() + 0.01\n",
    "    \n",
    "    # 파라미터 설정\n",
    "    n_classes = len(le.classes_)\n",
    "    plot_colors = \"rywb\"\n",
    "    plot_step = 0.001\n",
    "\n",
    "    xx, yy = np.meshgrid(np.arange(x_min, x_max, plot_step),\n",
    "                        np.arange(y_min, y_max, plot_step))\n",
    "    \n",
    "    Z = clf.predict(np.c_[xx.ravel(), yy.ravel()])\n",
    "    Z = Z.reshape(xx.shape)\n",
    "    cs = plt.contourf(xx, yy, Z, cmap=plt.cm.RdYlBu)\n",
    "\n",
    "    # 학습 데이터를 챠트에 표시\n",
    "    for i, color in zip(range(n_classes), plot_colors):\n",
    "        idx = np.where(y == i)\n",
    "        plt.scatter(X.loc[idx].longitude, \n",
    "                    X.loc[idx].latitude, \n",
    "                    c=color, \n",
    "                    label=le.classes_[i],\n",
    "                    cmap=plt.cm.RdYlBu, edgecolor='black', s=200)\n",
    "\n",
    "    # 챠트 제목\n",
    "    plt.title(\"Decision surface of a decision tree\",fontsize=16)\n",
    "    # 챠트 기호 설명\n",
    "    plt.legend(bbox_to_anchor=(1.05, 1), loc=2, borderaxespad=0., fontsize=14)\n",
    "    # x축의 이름과 폰트 크기 설정\n",
    "    plt.xlabel('longitude',fontsize=16)\n",
    "    # y축의 이름과 폰트 크기 설정\n",
    "    plt.ylabel('latitude',fontsize=16)\n",
    "    # 챠트 크기 설정\n",
    "    plt.rcParams[\"figure.figsize\"] = [7,5]\n",
    "    # 챠트 폰트 크기 설정\n",
    "    plt.rcParams[\"font.size\"] = 14\n",
    "    # x축 좌표상의 폰트 크기 설정\n",
    "    plt.rcParams[\"xtick.labelsize\"] = 14\n",
    "    # y축 좌표상의 폰트 크기 설정\n",
    "    plt.rcParams[\"ytick.labelsize\"] = 14\n",
    "\n",
    "    # 챠트 그리기\n",
    "    plt.show()"
   ]
  },
  {
   "cell_type": "markdown",
   "metadata": {},
   "source": [
    "# 파라미터 없이 학습한 모델의 결정 표면 시각화\n",
    "의사결정트리는 오버피팅되기 상당히 쉬운 모델입니다.  \n",
    "별도의 파라미터를 설정해주지 않을 경우, 최대한 학습데이터에만 잘 맞게 모델이 형성됩니다 (오버피팅).  \n",
    "아래 챠트를 통해, 학습된 모델이 강남, 강북, 강동, 강서 지역 구분이라기 보다는,   \n",
    "단순히 학습 데이터 구분에만 집중된 모델임을 볼 수 있습니다."
   ]
  },
  {
   "cell_type": "code",
   "execution_count": null,
   "metadata": {},
   "outputs": [],
   "source": [
    "# pyplot은 숫자로 표현된 레이블을 시각화할 수 있음\n",
    "# LabelEncoder로 레이블을 숫자로 변경\n",
    "le = preprocessing.LabelEncoder()\n",
    "y_encoded = le.fit_transform(y_train)\n",
    "\n",
    "clf = tree.DecisionTreeClassifier(random_state=35).fit(X_train, y_encoded)\n",
    "display_decision_surface(clf,X_train, y_encoded)"
   ]
  },
  {
   "cell_type": "markdown",
   "metadata": {},
   "source": [
    "# 파라미터 설정한 모델의 결정 표면 시각화\n",
    "아래는 오버피팅을 피하기 위해 별도의 파라미터를 설정한 의사결정트리의 의사결정표면 챠트입니다.  \n",
    "오버피팅된 이전의 모델보다, 우리가 목표로 설정한  \"강동, 강서, 강남, 강북\" 구분하기에  \n",
    "더 적절한 결정 표면을 확인할 수 있습니다.\n",
    "\n",
    "**max_depth** : 트리의 최대 한도 깊이  \n",
    "**min_samples_split** : 자식 노드를 갖기 위한 최소한의 데이터 갯수  \n",
    "**mins_samples_leaf** : 맨 마지막 끝 노드의 최소 데이터 갯수  \n",
    "**random_state** : 여러번 실행해도, 파라미터가 같을 경우, 결과가 항상 같게 만들어주는 파라미터 "
   ]
  },
  {
   "cell_type": "code",
   "execution_count": null,
   "metadata": {},
   "outputs": [],
   "source": [
    "clf = tree.DecisionTreeClassifier(max_depth=4, \n",
    "                                  min_samples_split=2,\n",
    "                                  min_samples_leaf=2, \n",
    "                                  random_state=70).fit(X_train, y_encoded.ravel())\n",
    "display_decision_surface(clf,X_train, y_encoded)"
   ]
  },
  {
   "cell_type": "markdown",
   "metadata": {},
   "source": [
    "# 의사결정트리 시각화\n",
    "의사결정트리의 장점은 예측값이 어떤 식으로 판단되었는 지 이해가 무척 쉽다는 것입니다.  \n",
    "다른 모델들에 비해, 큰 수학적인 지식이 없어도, 아래의 트리 그림을 보면, 어떻게 예측값이 도출되었는 지  \n",
    "쉽게 알 수 있습니다."
   ]
  },
  {
   "cell_type": "code",
   "execution_count": null,
   "metadata": {},
   "outputs": [],
   "source": [
    "#!pip install graphviz"
   ]
  },
  {
   "cell_type": "code",
   "execution_count": null,
   "metadata": {},
   "outputs": [],
   "source": [
    "import graphviz\n",
    "dot_data = tree.export_graphviz(clf, out_file=None)\n",
    "graph = graphviz.Source(dot_data)\n",
    "graph.render(\"seoul\")\n",
    "\n",
    "dot_data = tree.export_graphviz(clf, out_file=None, \n",
    "                         feature_names=['longitude','latitude'],  \n",
    "                         class_names=['Gangbuk', 'Gangdong', 'Gangnam', 'Gangseo'],  \n",
    "                         filled=True, rounded=True,  \n",
    "                         special_characters=True)  \n",
    "graph = graphviz.Source(dot_data)  \n",
    "graph"
   ]
  },
  {
   "cell_type": "markdown",
   "metadata": {},
   "source": [
    "**gini** : 불순도 척도. 0일 경우, 모든 샘플이 하나의 분류값을 갖으며, 0이 아닐 경우, 1에 가까울수록, 여러 분류값이 한 노드에 존재합니다.  \n",
    "**samples** : 노드 안에 들어 있는 데이터의 갯수  \n",
    "**value** : 분류값 별 데이터의 갯수   \n",
    "**class** :  분류값"
   ]
  },
  {
   "cell_type": "markdown",
   "metadata": {},
   "source": [
    "# 테스트\n",
    "모델을 테스트합니다."
   ]
  },
  {
   "cell_type": "code",
   "execution_count": null,
   "metadata": {},
   "outputs": [],
   "source": [
    "from sklearn.metrics import accuracy_score\n",
    "pred = clf.predict(X_test)"
   ]
  },
  {
   "cell_type": "markdown",
   "metadata": {},
   "source": [
    "모델 예측 정확도(accuracy)를 확인합니다."
   ]
  },
  {
   "cell_type": "code",
   "execution_count": null,
   "metadata": {},
   "outputs": [],
   "source": [
    "print(\"accuracy : \" + str( accuracy_score(y_test.values.ravel(), le.classes_[pred])) )"
   ]
  },
  {
   "cell_type": "markdown",
   "metadata": {},
   "source": [
    "실제값과 예측값을 비교합니다."
   ]
  },
  {
   "cell_type": "code",
   "execution_count": null,
   "metadata": {},
   "outputs": [],
   "source": [
    "comparison = pd.DataFrame({'prediction':le.classes_[pred], 'ground_truth':y_test.values.ravel()}) \n",
    "comparison"
   ]
  },
  {
   "cell_type": "code",
   "execution_count": null,
   "metadata": {},
   "outputs": [],
   "source": []
  }
 ],
 "metadata": {
  "kernelspec": {
   "display_name": "Python 3 (ipykernel)",
   "language": "python",
   "name": "python3"
  },
  "language_info": {
   "codemirror_mode": {
    "name": "ipython",
    "version": 3
   },
   "file_extension": ".py",
   "mimetype": "text/x-python",
   "name": "python",
   "nbconvert_exporter": "python",
   "pygments_lexer": "ipython3",
   "version": "3.8.12"
  }
 },
 "nbformat": 4,
 "nbformat_minor": 2
}
