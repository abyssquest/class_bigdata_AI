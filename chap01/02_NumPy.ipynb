{
 "cells": [
  {
   "cell_type": "markdown",
   "id": "9c18020e",
   "metadata": {},
   "source": [
    "# NumPy 란?\n",
    "  - 파이썬 기반 데이터 분석 환경에서 행렬 연산을 위한 핵심 라이브러리.\n",
    "  - \"Numerical Python\"의 약자로 대규모 다차원 배열과 행렬 연산에 필요한\n",
    "    다양한 함수를 제공.\n",
    "  - 특히, 메모리 버퍼에 배열 데이터를 저장하고 처리하는 효율적인\n",
    "    인터페이스를 제공.\n",
    "  - 파이썬 list 객체를 개선한 NumPy의 ndarray 객체를 사용하면 더 많은\n",
    "    데이터를 더 빠르게 처리할 수 있다."
   ]
  },
  {
   "cell_type": "code",
   "execution_count": null,
   "id": "ecda8fa8",
   "metadata": {},
   "outputs": [],
   "source": [
    "import numpy as np\n",
    "import matplotlib.pyplot as plt"
   ]
  },
  {
   "cell_type": "code",
   "execution_count": null,
   "id": "bc77575c",
   "metadata": {},
   "outputs": [],
   "source": [
    "# 배열 생성\n",
    "# - 1차원 배열(Vector) 정의\n",
    "arr = np.array([1, 2, 3])\n",
    "print(arr)"
   ]
  },
  {
   "cell_type": "code",
   "execution_count": null,
   "id": "de353685",
   "metadata": {},
   "outputs": [],
   "source": [
    "# cf) 리스트 자료형 \n",
    "list = [1, 2, 3]\n",
    "print(list)"
   ]
  },
  {
   "cell_type": "code",
   "execution_count": null,
   "id": "6765bea8",
   "metadata": {},
   "outputs": [],
   "source": [
    "# - 2차원 배열(Matrix) 정의\n",
    "arr2 = np.array([[1, 2, 3],[4, 5, 6]]) # 2행3열\n",
    "print(arr2)"
   ]
  },
  {
   "cell_type": "code",
   "execution_count": null,
   "id": "edd2c370",
   "metadata": {},
   "outputs": [],
   "source": [
    "# - 3차원 배열(Array) 정의\n",
    "arr3 = np.array([[[1,2,3],[4,5,6]],[[7,8,9],[10,11,12]]]) # 2면2행3열\n",
    "print(arr3)\n",
    "print(\"arr3.shape:{0}\".format(arr3.shape))"
   ]
  },
  {
   "cell_type": "code",
   "execution_count": null,
   "id": "d11eb47a",
   "metadata": {
    "scrolled": true
   },
   "outputs": [],
   "source": [
    "# 배열 생성 및 초기화\n",
    "# zeros((행, 열)) : 0. 으로 채우는 함수\n",
    "arr_zeros = np.zeros((3, 4))\n",
    "print(arr_zeros)"
   ]
  },
  {
   "cell_type": "code",
   "execution_count": null,
   "id": "9d9ae06a",
   "metadata": {},
   "outputs": [],
   "source": [
    "# ones((행, 열)) : 1로 채우는 함수\n",
    "arr_ones = np.ones((2, 2))\n",
    "print(arr_ones)"
   ]
  },
  {
   "cell_type": "code",
   "execution_count": null,
   "id": "efed2b37",
   "metadata": {},
   "outputs": [],
   "source": [
    "# full((행, 열), 값) : 값으로 채우는 함수\n",
    "arr_full = np.full((3, 4), 7)\n",
    "print(arr_full)"
   ]
  },
  {
   "cell_type": "code",
   "execution_count": null,
   "id": "21f855c8",
   "metadata": {},
   "outputs": [],
   "source": [
    "# eye(N) : (N, N)의 단위 행렬 생성\n",
    "arr_eye = np.eye(5)\n",
    "print(arr_eye)"
   ]
  },
  {
   "cell_type": "code",
   "execution_count": null,
   "id": "a8a93331",
   "metadata": {},
   "outputs": [],
   "source": [
    "# empty((행, 열)) : 초기화 없이 기존 메모리 값이 들어감.\n",
    "arr_empty = np.empty((3, 3))\n",
    "print(arr_empty)"
   ]
  },
  {
   "cell_type": "code",
   "execution_count": null,
   "id": "ba9280c0",
   "metadata": {},
   "outputs": [],
   "source": [
    "# _like(배열) 지정한 배열과 동일한 shape의 행렬을 만듦.\n",
    "# 종류 : np.zeros_like(), np.ones_like(), np.full_like(), np.empty_like()\n",
    "arr_sample = np.array([[1, 2, 3],[4, 5, 6]])\n",
    "arr_like = np.ones_like(arr_sample)\n",
    "print(arr_like)"
   ]
  },
  {
   "cell_type": "code",
   "execution_count": null,
   "id": "24122744",
   "metadata": {},
   "outputs": [],
   "source": [
    "# 배열 데이터 생성 함수\n",
    "#  - np.linspace(시작, 종료, 개수) : 개수에 맞게끔 시작과 종료 사이에 균등하게 분배\n",
    "arr_linspace = np.linspace(1, 10, 5)\n",
    "print(arr_linspace)"
   ]
  },
  {
   "cell_type": "code",
   "execution_count": null,
   "id": "f8dfd6f7",
   "metadata": {},
   "outputs": [],
   "source": [
    "plt.plot(arr_linspace, 'o') # 그래프를 그려주는 함수 마커를 원('o')으로 만든 그래프를 보여줌.\n",
    "plt.show()"
   ]
  },
  {
   "cell_type": "code",
   "execution_count": null,
   "id": "7b99cf4f",
   "metadata": {},
   "outputs": [],
   "source": [
    "# np.arange(시작, 종료, 스텝) : 시작과 종료 사이에 스텝 간격으로 생성.\n",
    "arr_arrange = np.arange(1, 20, 2)\n",
    "print(arr_arrange)"
   ]
  },
  {
   "cell_type": "code",
   "execution_count": null,
   "id": "2634215b",
   "metadata": {},
   "outputs": [],
   "source": [
    "plt.plot(arr_arrange, 'v')\n",
    "plt.show()"
   ]
  },
  {
   "cell_type": "markdown",
   "id": "48afe6de",
   "metadata": {},
   "source": [
    "# list vs ndarray"
   ]
  },
  {
   "cell_type": "code",
   "execution_count": null,
   "id": "a36991d3",
   "metadata": {},
   "outputs": [],
   "source": [
    "x1 = [1, 2, 3]\n",
    "y1 = [4, 5, 6]\n",
    "print(x1 + y1)\n",
    "print(type(x1))"
   ]
  },
  {
   "cell_type": "code",
   "execution_count": null,
   "id": "11f3b57d",
   "metadata": {},
   "outputs": [],
   "source": [
    "x2 = np.array([1, 2, 3])\n",
    "y2 = np.array([4, 5, 6])\n",
    "print(x2 + y2)\n",
    "print(type(x2))"
   ]
  },
  {
   "cell_type": "code",
   "execution_count": null,
   "id": "d292ed8c",
   "metadata": {},
   "outputs": [],
   "source": [
    "print(x2[2]) # 요소의 참조"
   ]
  },
  {
   "cell_type": "code",
   "execution_count": null,
   "id": "0aa1b45a",
   "metadata": {},
   "outputs": [],
   "source": [
    "x2[2] = 10  # 요소의 수정\n",
    "print(x2)"
   ]
  },
  {
   "cell_type": "code",
   "execution_count": null,
   "id": "96679ab2",
   "metadata": {},
   "outputs": [],
   "source": [
    "# 연속된 정수 벡터의 생성\n",
    "print(np.arange(10))\n",
    "print(np.arange(5, 10))"
   ]
  },
  {
   "cell_type": "code",
   "execution_count": null,
   "id": "73b4c1b0",
   "metadata": {},
   "outputs": [],
   "source": [
    "x = np.array([10, 11, 12])\n",
    "for i in np.arange(1, 4):\n",
    "    print(i)\n",
    "    print(i + x)"
   ]
  },
  {
   "cell_type": "code",
   "execution_count": null,
   "id": "6c84b6d4",
   "metadata": {},
   "outputs": [],
   "source": [
    "# ndarray형의 주의점\n",
    "a = np.array([1, 1])\n",
    "b = a # 주소값 복사\n",
    "\n",
    "print('a = ' + str(a))\n",
    "print('b = ' + str(b))"
   ]
  },
  {
   "cell_type": "code",
   "execution_count": null,
   "id": "83a0fb10",
   "metadata": {},
   "outputs": [],
   "source": [
    "a[0] = 100\n",
    "\n",
    "print('a = ' + str(a))\n",
    "print('b = ' + str(b))"
   ]
  },
  {
   "cell_type": "code",
   "execution_count": null,
   "id": "f8540d3c",
   "metadata": {},
   "outputs": [],
   "source": [
    "a = np.array([1, 1])\n",
    "b = a.copy()  # 데이터 복사\n",
    "\n",
    "print('a = ' + str(a))\n",
    "print('b = ' + str(b))"
   ]
  },
  {
   "cell_type": "code",
   "execution_count": null,
   "id": "74baae70",
   "metadata": {},
   "outputs": [],
   "source": [
    "a[0] = 100\n",
    "\n",
    "print('a = ' + str(a))\n",
    "print('b = ' + str(b))"
   ]
  },
  {
   "cell_type": "markdown",
   "id": "aba621b9",
   "metadata": {},
   "source": [
    "## - 행렬(2차원, Matrix)"
   ]
  },
  {
   "cell_type": "code",
   "execution_count": null,
   "id": "f9da907a",
   "metadata": {},
   "outputs": [],
   "source": [
    "x = np.array([[1, 2, 3],[4, 5, 6]])# 2행 3열\n",
    "print(x)\n",
    "print(type(x))\n",
    "print(x.shape) # 튜플"
   ]
  },
  {
   "cell_type": "code",
   "execution_count": null,
   "id": "79eda279",
   "metadata": {},
   "outputs": [],
   "source": [
    "row, col = x.shape\n",
    "print(row)\n",
    "print(col)"
   ]
  },
  {
   "cell_type": "code",
   "execution_count": null,
   "id": "9f5c6f02",
   "metadata": {},
   "outputs": [],
   "source": [
    "print(x[1, 2])\n",
    "\n",
    "x[1, 2] = 10 # 요소의 수정\n",
    "print(x)"
   ]
  },
  {
   "cell_type": "markdown",
   "id": "c5085cce",
   "metadata": {},
   "source": [
    "## - 요소가 랜덤인 행렬 생성"
   ]
  },
  {
   "cell_type": "code",
   "execution_count": null,
   "id": "294d7cad",
   "metadata": {},
   "outputs": [],
   "source": [
    "randArray = np.random.rand(2,3) # 0 ~ 1 사이의 균일한 분포\n",
    "print(randArray)"
   ]
  },
  {
   "cell_type": "code",
   "execution_count": null,
   "id": "2cdb53e2",
   "metadata": {},
   "outputs": [],
   "source": [
    "randnArray = np.random.randn(2, 3) # 평균 0, 분산 1 가우스 분포로 난수를 생성.\n",
    "print(randnArray)"
   ]
  },
  {
   "cell_type": "code",
   "execution_count": null,
   "id": "700e78ba",
   "metadata": {},
   "outputs": [],
   "source": [
    "randintArray = np.random.randint(10, 20, (2,3))\n",
    "print(randintArray)"
   ]
  },
  {
   "cell_type": "code",
   "execution_count": null,
   "id": "8bddd9cc",
   "metadata": {},
   "outputs": [],
   "source": [
    "# np.random.normal(정규분포 평균, 표준편차, (행, 열) or 개수)\n",
    "#  - 정규 분포 확률 밀도에서 표본 추출\n",
    "mean = 0 # 평균\n",
    "std = 1  # 표준편차\n",
    "arr_normal = np.random.normal(mean, std, 10000)\n",
    "plt.hist(arr_normal, bins=100) # 나누는 구간 갯수(100개 정도로 더 잘게 나누어 보라는 의미)\n",
    "plt.show()"
   ]
  },
  {
   "cell_type": "code",
   "execution_count": null,
   "id": "f07a98d5",
   "metadata": {},
   "outputs": [],
   "source": [
    "# np.random.random((행, 열) or size) : (행,열)의 정규 분포로 난수(0~1 사이) 생성\n",
    "arr_random = np.random.random((3,2)) # 행렬\n",
    "print(arr_random)"
   ]
  },
  {
   "cell_type": "code",
   "execution_count": null,
   "id": "11dc5c8e",
   "metadata": {},
   "outputs": [],
   "source": [
    "data = np.random.random(10000) # size\n",
    "plt.hist(data, bins=100) # 100개의 구간으로 나누어 히스토 그램을 보이라는 의미\n",
    "plt.show()"
   ]
  },
  {
   "cell_type": "code",
   "execution_count": null,
   "id": "82447c75",
   "metadata": {},
   "outputs": [],
   "source": [
    "# 행렬의 크기 변경\n",
    "a = np.arange(10)\n",
    "print(a) # [0 1 2 3 4 5 6 7 8 9]\n",
    "a_arange = a.reshape(2,5)\n",
    "print(a_arange)"
   ]
  },
  {
   "cell_type": "code",
   "execution_count": null,
   "id": "fff2b5a7",
   "metadata": {},
   "outputs": [],
   "source": [
    "print(type(a_arange)) # <class 'numpy.ndarray'>\n",
    "print(a_arange.shape) # (2, 5)"
   ]
  },
  {
   "cell_type": "code",
   "execution_count": null,
   "id": "b8843feb",
   "metadata": {},
   "outputs": [],
   "source": [
    "# 행렬(numpy.ndarray)의 사칙 연산\n",
    "# - 덧셈\n",
    "x = np.array([[4,4,4],[8,8,8]])\n",
    "y = np.array([[1,1,1],[2,2,2]])\n",
    "print(x+y)"
   ]
  },
  {
   "cell_type": "code",
   "execution_count": null,
   "id": "2aed308e",
   "metadata": {},
   "outputs": [],
   "source": [
    "# - 스칼라 x 행렬\n",
    "x = np.array([[4,4,4],[8,8,8]])\n",
    "scar_arr = 10 * x\n",
    "print(scar_arr)"
   ]
  },
  {
   "cell_type": "code",
   "execution_count": null,
   "id": "6a8b3209",
   "metadata": {},
   "outputs": [],
   "source": [
    "# - 산술함수 : np.exp(x), np.sqrt(), np.log(), np.round()\n",
    "#             np.mean(), np.std(), np.max(), np.min()\n",
    "print(np.exp(x))"
   ]
  },
  {
   "cell_type": "code",
   "execution_count": null,
   "id": "4ad8c2a9",
   "metadata": {},
   "outputs": [],
   "source": [
    "# - 행렬 * 행렬\n",
    "x = np.array([[1,2,3],[4,5,6]])   # (2,3)\n",
    "y = np.array([[1,1],[2,2],[3,3]]) # (3,2)\n",
    "print(x.dot(y))"
   ]
  },
  {
   "cell_type": "code",
   "execution_count": null,
   "id": "45f7968b",
   "metadata": {},
   "outputs": [],
   "source": [
    "# 원소 접근\n",
    "data = np.array([[51,55],[14,19],[0,4]])\n",
    "print(data)\n",
    "print(data[0][1])"
   ]
  },
  {
   "cell_type": "code",
   "execution_count": null,
   "id": "f6ebebae",
   "metadata": {},
   "outputs": [],
   "source": [
    "for row in data:\n",
    "    print(row)"
   ]
  },
  {
   "cell_type": "code",
   "execution_count": null,
   "id": "7f0e8263",
   "metadata": {},
   "outputs": [],
   "source": [
    "y = data.flatten() # data를 1차원 배열로 변환(평탄화)\n",
    "print(y)"
   ]
  },
  {
   "cell_type": "code",
   "execution_count": null,
   "id": "b15438cd",
   "metadata": {},
   "outputs": [],
   "source": [
    "# 슬라이싱\n",
    "x = np.arange(10)\n",
    "print(x[:5])  # [0 1 2 3 4]\n",
    "print(x[5:])  # [5 6 7 8 9]\n",
    "print(x[3:8]) # [3 4 5 6 7]\n",
    "\n",
    "print(x[3:8:2]) # [3 5 7]\n",
    "\n",
    "print(x[::-1]) # [9 8 7 6 5 4 3 2 1 0]"
   ]
  },
  {
   "cell_type": "code",
   "execution_count": null,
   "id": "34bff47f",
   "metadata": {},
   "outputs": [],
   "source": [
    "y = np.array([[1,2,3],[4,5,6],[7,8,9]]) # 3행3열\n",
    "print(y[:2, 1:2])"
   ]
  },
  {
   "cell_type": "code",
   "execution_count": null,
   "id": "53aadcef",
   "metadata": {},
   "outputs": [],
   "source": [
    "# 조건을 만족하는 데이터 수정\n",
    "# - bool 배열 사용\n",
    "x = np.array([1,1,2,3,5,8,15])\n",
    "print(x > 3)"
   ]
  },
  {
   "cell_type": "code",
   "execution_count": null,
   "id": "a75c27ac",
   "metadata": {},
   "outputs": [],
   "source": [
    "y = x[x > 3]\n",
    "print(y)"
   ]
  },
  {
   "cell_type": "code",
   "execution_count": null,
   "id": "c5e64282",
   "metadata": {},
   "outputs": [],
   "source": [
    "x[x > 3] = 555\n",
    "print(x)"
   ]
  },
  {
   "cell_type": "markdown",
   "id": "c9ad9dbf",
   "metadata": {},
   "source": [
    "# - Numpy에서 np.sum 함수의 axis 이해"
   ]
  },
  {
   "cell_type": "code",
   "execution_count": null,
   "id": "4316ee9a",
   "metadata": {},
   "outputs": [],
   "source": [
    "arr = np.arange(0, 4*2*4)\n",
    "len(arr)\n",
    "arr"
   ]
  },
  {
   "cell_type": "code",
   "execution_count": null,
   "id": "45d064f3",
   "metadata": {},
   "outputs": [],
   "source": [
    "v = arr.reshape([4,2,4]) # 차원 변환(x축(row), y축(column), z축(depth))\n",
    "v"
   ]
  },
  {
   "cell_type": "code",
   "execution_count": null,
   "id": "82b74840",
   "metadata": {},
   "outputs": [],
   "source": [
    "print(v.shape)  # 4면 2행 4열\n",
    "print(v.ndim)   # v의 차원\n",
    "print(v.sum())  # 모든 element의 합"
   ]
  },
  {
   "cell_type": "code",
   "execution_count": null,
   "id": "0f054f0e",
   "metadata": {},
   "outputs": [],
   "source": [
    "res01=v.sum(axis=0) # axis=0 기준 합계\n",
    "res01.shape"
   ]
  },
  {
   "cell_type": "code",
   "execution_count": null,
   "id": "eabc538e",
   "metadata": {},
   "outputs": [],
   "source": [
    "res01"
   ]
  },
  {
   "cell_type": "code",
   "execution_count": null,
   "id": "3d6ab527",
   "metadata": {},
   "outputs": [],
   "source": [
    "res02=v.sum(axis=1)  # axis=1 기준 합계\n",
    "res02.shape"
   ]
  },
  {
   "cell_type": "code",
   "execution_count": null,
   "id": "f9af3dfe",
   "metadata": {},
   "outputs": [],
   "source": [
    "res02"
   ]
  },
  {
   "cell_type": "code",
   "execution_count": null,
   "id": "5624aff3",
   "metadata": {},
   "outputs": [],
   "source": [
    "res03=v.sum(axis=2)  # axis=2 기준 합계\n",
    "res03.shape"
   ]
  },
  {
   "cell_type": "code",
   "execution_count": null,
   "id": "dd34437b",
   "metadata": {},
   "outputs": [],
   "source": [
    "res03"
   ]
  },
  {
   "cell_type": "code",
   "execution_count": null,
   "id": "1caa9d10",
   "metadata": {},
   "outputs": [],
   "source": []
  }
 ],
 "metadata": {
  "kernelspec": {
   "display_name": "Python 3 (ipykernel)",
   "language": "python",
   "name": "python3"
  },
  "language_info": {
   "codemirror_mode": {
    "name": "ipython",
    "version": 3
   },
   "file_extension": ".py",
   "mimetype": "text/x-python",
   "name": "python",
   "nbconvert_exporter": "python",
   "pygments_lexer": "ipython3",
   "version": "3.8.12"
  }
 },
 "nbformat": 4,
 "nbformat_minor": 5
}
