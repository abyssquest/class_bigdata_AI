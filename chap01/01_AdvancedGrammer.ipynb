{
 "cells": [
  {
   "cell_type": "markdown",
   "id": "8822825f",
   "metadata": {},
   "source": [
    "# 데이터 분석에 유용한 기능들...\n",
    "## - list comprehension 기본 구조"
   ]
  },
  {
   "cell_type": "code",
   "execution_count": null,
   "id": "b1c012cd",
   "metadata": {},
   "outputs": [],
   "source": [
    "numbers = [1, 2, 3, 4, 5]\n",
    "square1 = []"
   ]
  },
  {
   "cell_type": "code",
   "execution_count": null,
   "id": "2c88b577",
   "metadata": {},
   "outputs": [],
   "source": [
    "for i in numbers:\n",
    "    square1.append(i ** 2)\n",
    "    \n",
    "square1"
   ]
  },
  {
   "cell_type": "code",
   "execution_count": null,
   "id": "e7d202dc",
   "metadata": {},
   "outputs": [],
   "source": [
    "square2 = [i ** 2 for i in numbers]\n",
    "square2"
   ]
  },
  {
   "cell_type": "code",
   "execution_count": null,
   "id": "9d26c8ee",
   "metadata": {},
   "outputs": [],
   "source": [
    "square3 = []\n",
    "\n",
    "for i in numbers:\n",
    "    if i >= 3:\n",
    "        square3.append(i ** 2)\n",
    "        \n",
    "square3"
   ]
  },
  {
   "cell_type": "code",
   "execution_count": null,
   "id": "969b88eb",
   "metadata": {},
   "outputs": [],
   "source": [
    "square4 = [i ** 2 for i in numbers if i >= 3]\n",
    "square4"
   ]
  },
  {
   "cell_type": "markdown",
   "id": "f4cc5ef2",
   "metadata": {},
   "source": [
    "## - split(구분자) : 구분자로 구분, 기본값은 공백"
   ]
  },
  {
   "cell_type": "code",
   "execution_count": null,
   "id": "a37320eb",
   "metadata": {},
   "outputs": [],
   "source": [
    "test_text = \"the-joeun-IT-computer-with-python\"\n",
    "result = test_text.split('-')\n",
    "result # list"
   ]
  },
  {
   "cell_type": "markdown",
   "id": "3d2000d0",
   "metadata": {},
   "source": [
    "### - 구분자.join(리스트) : split 함수와 반대로 구분자로 붙인다."
   ]
  },
  {
   "cell_type": "code",
   "execution_count": null,
   "id": "e46f2481",
   "metadata": {},
   "outputs": [],
   "source": [
    "test_text = ['the', 'joeun', 'IT', 'computer', 'with', 'python']\n",
    "test_text"
   ]
  },
  {
   "cell_type": "code",
   "execution_count": null,
   "id": "07355c33",
   "metadata": {},
   "outputs": [],
   "source": [
    "result = '-'.join(test_text)\n",
    "result"
   ]
  },
  {
   "cell_type": "markdown",
   "id": "259b769b",
   "metadata": {},
   "source": [
    "### - split()와 join()의 응용"
   ]
  },
  {
   "cell_type": "code",
   "execution_count": null,
   "id": "12fe3cf6",
   "metadata": {},
   "outputs": [],
   "source": [
    "result = '-'.join('345.234.6789'.split('.'))\n",
    "result\n",
    "# replaceAll() 로 대체 가능"
   ]
  },
  {
   "cell_type": "markdown",
   "id": "e484249a",
   "metadata": {},
   "source": [
    "### - enumerate(list) : 인덱스와 값을 함께 반환"
   ]
  },
  {
   "cell_type": "code",
   "execution_count": null,
   "id": "6d2402bf",
   "metadata": {},
   "outputs": [],
   "source": [
    "for i, name in enumerate(['a', 'b', 'c', 'd']):\n",
    "    print(i, name)"
   ]
  },
  {
   "cell_type": "code",
   "execution_count": null,
   "id": "513bff6d",
   "metadata": {},
   "outputs": [],
   "source": [
    "seq = ['mon', 'tue', 'wed', 'thu','fri', 'sat', 'sun']\n",
    "dict(enumerate(seq))"
   ]
  },
  {
   "cell_type": "code",
   "execution_count": null,
   "id": "49ddc40b",
   "metadata": {},
   "outputs": [],
   "source": [
    "key_seq = 'abcdefg'\n",
    "value_seq = ['mon', 'tue', 'wed', 'thu','fri', 'sat', 'sun']\n",
    "dict(zip(key_seq, value_seq))"
   ]
  },
  {
   "cell_type": "markdown",
   "id": "375ee9f6",
   "metadata": {},
   "source": [
    "### - List comprehesion - 리스트 변환하는 표현식으로 유용한 기능"
   ]
  },
  {
   "cell_type": "code",
   "execution_count": null,
   "id": "3df79b5e",
   "metadata": {},
   "outputs": [],
   "source": [
    "day = ['mon', 'tue', 'wed', 'thu','fri', 'sat', 'sun']\n",
    "print([x for x in day])"
   ]
  },
  {
   "cell_type": "code",
   "execution_count": null,
   "id": "4ebc0cab",
   "metadata": {},
   "outputs": [],
   "source": [
    "data = [35, 56, -53, 45, 27, -28, 8, -12]\n",
    "print([x for x in data if x >= 0])"
   ]
  },
  {
   "cell_type": "code",
   "execution_count": null,
   "id": "c09e3b41",
   "metadata": {},
   "outputs": [],
   "source": [
    "data = [35, 56, -53, 45, 27, -28, 8, -12]\n",
    "print([x**2 for x in data if x >= 0])"
   ]
  },
  {
   "cell_type": "markdown",
   "id": "d4a74b46",
   "metadata": {},
   "source": [
    "## Counter를 이용한 카운팅\n",
    "### - Countsms 아이템의 갯수를 자동으로 카운팅."
   ]
  },
  {
   "cell_type": "code",
   "execution_count": null,
   "id": "90207b66",
   "metadata": {},
   "outputs": [],
   "source": [
    "from collections import Counter"
   ]
  },
  {
   "cell_type": "code",
   "execution_count": null,
   "id": "6fb42e98",
   "metadata": {},
   "outputs": [],
   "source": [
    "message = \"\"\"\n",
    "But I must explain to you how all this mistaken idea of denouncing pleasure and \n",
    "praising pain was born and I will give you a complete account of the system, and \n",
    "expound the actual teachings of the great explorer of the truth, the master-builder \n",
    "of human happiness. No one rejects, dislikes, or avoids pleasure itself, because \n",
    "it is pleasure, but because those who do not know how to pursue pleasure rationally \n",
    "encounter consequences that are extremely painful. Nor again is there anyone who loves\n",
    "or pursues or desires to obtain pain of itself, because it is pain, but because \n",
    "occasionally circumstances occur in which toil and pain can procure him some great \n",
    "pleasure. To take a trivial example, which of us ever undertakes laborious physical \n",
    "exercise, except to obtain some advantage from it? But who has any right to find \n",
    "fault with a man who chooses to enjoy a pleasure that has no annoying consequences, \n",
    "or one who avoids a pain that produces no resultant pleasure?\n",
    "\"\"\""
   ]
  },
  {
   "cell_type": "code",
   "execution_count": null,
   "id": "d4695668",
   "metadata": {},
   "outputs": [],
   "source": [
    "counter = Counter(message.split())\n",
    "print(counter)"
   ]
  },
  {
   "cell_type": "code",
   "execution_count": null,
   "id": "14c58f0d",
   "metadata": {},
   "outputs": [],
   "source": [
    "print(type(counter))"
   ]
  },
  {
   "cell_type": "markdown",
   "id": "bca7e5fb",
   "metadata": {},
   "source": [
    "## Counter(dict) -> list 형태로 반환."
   ]
  },
  {
   "cell_type": "code",
   "execution_count": null,
   "id": "b0757709",
   "metadata": {},
   "outputs": [],
   "source": [
    "print(counter.most_common())"
   ]
  },
  {
   "cell_type": "markdown",
   "id": "27302156",
   "metadata": {},
   "source": [
    "## list -> dict 형태로 변환"
   ]
  },
  {
   "cell_type": "code",
   "execution_count": null,
   "id": "d877670b",
   "metadata": {},
   "outputs": [],
   "source": [
    "dict_msg = dict(counter.most_common())\n",
    "print(dict_msg)"
   ]
  },
  {
   "cell_type": "code",
   "execution_count": null,
   "id": "17fc4cad",
   "metadata": {},
   "outputs": [],
   "source": [
    "print(dict_msg['to'])\n",
    "print(dict_msg['pain'])"
   ]
  }
 ],
 "metadata": {
  "kernelspec": {
   "display_name": "Python 3 (ipykernel)",
   "language": "python",
   "name": "python3"
  },
  "language_info": {
   "codemirror_mode": {
    "name": "ipython",
    "version": 3
   },
   "file_extension": ".py",
   "mimetype": "text/x-python",
   "name": "python",
   "nbconvert_exporter": "python",
   "pygments_lexer": "ipython3",
   "version": "3.8.12"
  }
 },
 "nbformat": 4,
 "nbformat_minor": 5
}
